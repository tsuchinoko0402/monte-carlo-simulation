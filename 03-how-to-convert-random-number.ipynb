{
 "cells": [
  {
   "cell_type": "markdown",
   "id": "97dabf18-4300-4e79-abba-0e26d48d2100",
   "metadata": {},
   "source": [
    "# 3. 乱数の変換方法\n",
    "\n",
    "一様乱数から様々な分布の乱数を作り出す方法を学ぶ。\n",
    "\n",
    "## 区間一様乱数\n",
    "\n",
    "Julia の場合は、`Random.rand()` の引数に指定すれば特定区間の一様乱数を得られるが、一般には**逆関数法**が用いられる。下図 a のようになる確率密度関数を積分した分布関数は b に用になるので、ここに区間 `[0, 1)` の一様乱数を代入すると、区間 `[a, b)` の乱数が得られる。\n",
    "\n",
    "![](https://www.ishikawa-lab.com/montecarlo/jpg/fig4-1-11.jpg)\n",
    "\n",
    "区間 `[a, b)` の一様乱数の分布関数 `g(x)` は次のように表される：\n",
    "\n",
    "$$\n",
    "    g(x) = \n",
    "    \\begin{cases}\n",
    "        0           &   x < a  \\\\\n",
    "        (x-a)/(b-a) &   a \\leqq x < b \\\\\n",
    "        1           &   x > b\n",
    "    \\end{cases}\n",
    "$$\n",
    "\n",
    "これを $x$ について解くと、\n",
    "\n",
    "$$\n",
    "    x = a+(b-a)\\cdot g(x)\n",
    "$$\n",
    "\n",
    "となる。実際のプログラム上では `x = a + (b-a) * rand()` と書ける。"
   ]
  },
  {
   "cell_type": "markdown",
   "id": "847e1e12-dcd4-4433-92a8-1154774268d7",
   "metadata": {},
   "source": [
    "## 指数乱数\n",
    "\n",
    "ランダムに発生する事象の時間間隔を測ってみると、それは指数分布に従う。後に述べる、変化点方式と呼ばれるシミュレーションを行う場合、指数分布にしたがう乱数、すなわち指数乱数をよく用いる。\n",
    "\n",
    "指数分布の密度関数 $f(\\tau)$ は、平均を $\\lambda$ とすると、\n",
    "\n",
    "$$\n",
    "    f(\\tau) = \\lambda e^{-\\lambda\\tau}\n",
    "$$\n",
    "\n",
    "であり、分布関数 $g(\\tau)$ は\n",
    "\n",
    "$$\n",
    "    g(\\tau) = \\int_{-\\infty}^{\\tau}\\lambda e^{-\\lambda\\tau} d\\tau \\\\\n",
    "            = 1 - e^{-\\lambda\\tau}\n",
    "$$\n",
    "\n",
    "である。\n",
    "\n",
    "![](https://www.ishikawa-lab.com/montecarlo/jpg/fig4-2-11.jpg)\n",
    "\n",
    "逆関数法で指数乱数を発生させるため、逆関数は\n",
    "\n",
    "$$\n",
    "    \\tau = -\\frac{1}{\\lambda}\\log(1-g(\\tau))\n",
    "$$\n",
    "\n",
    "となる。$g(\\tau))$ を `Random.rand()` に書き換えれば、$\\tau$ は指数乱数となる。"
   ]
  },
  {
   "cell_type": "code",
   "execution_count": 1,
   "id": "c1262f8f-dadc-485a-89e1-b988fca30a91",
   "metadata": {},
   "outputs": [
    {
     "data": {
      "image/png": "[encoded data removed]",
      "text/plain": [
       "Figure(PyObject <Figure size 640x480 with 1 Axes>)"
      ]
     },
     "metadata": {},
     "output_type": "display_data"
    },
    {
     "data": {
      "text/plain": [
       "(PyObject <matplotlib.patches.Rectangle object at 0x7f8110298250>, PyObject <matplotlib.patches.Rectangle object at 0x7f81102980d0>, PyObject <matplotlib.patches.Rectangle object at 0x7f8110298760>, PyObject <matplotlib.patches.Rectangle object at 0x7f8110298a30>, PyObject <matplotlib.patches.Rectangle object at 0x7f8110298d00>, PyObject <matplotlib.patches.Rectangle object at 0x7f8110298fd0>, PyObject <matplotlib.patches.Rectangle object at 0x7f81102aa2e0>, PyObject <matplotlib.patches.Rectangle object at 0x7f81102aa5b0>, PyObject <matplotlib.patches.Rectangle object at 0x7f81102aa880>, PyObject <matplotlib.patches.Rectangle object at 0x7f81102aab50>, PyObject <matplotlib.patches.Rectangle object at 0x7f81102aae20>, PyObject <matplotlib.patches.Rectangle object at 0x7f81102ba130>, PyObject <matplotlib.patches.Rectangle object at 0x7f81102ba400>, PyObject <matplotlib.patches.Rectangle object at 0x7f81102ba6d0>, PyObject <matplotlib.patches.Rectangle object at 0x7f81102ba9a0>)"
      ]
     },
     "execution_count": 1,
     "metadata": {},
     "output_type": "execute_result"
    }
   ],
   "source": [
    "using Random\n",
    "using PyPlot\n",
    "\n",
    "number = 10000\n",
    "lambda = 1.0\n",
    "size = 15      # 図で描画する最大数\n",
    "f = zeros(Int, size)\n",
    "\n",
    "for j = 1:number\n",
    "    tau = -1.0/lambda * log(1.0-rand())\n",
    "    u = Int(ceil(tau))\n",
    "    f[u] += 1\n",
    "end\n",
    "\n",
    "x = 1:size\n",
    "bar(x, f[1:size] / number)"
   ]
  },
  {
   "cell_type": "markdown",
   "id": "0ef44cda-eaf6-4e35-9247-879a4f8d8d45",
   "metadata": {},
   "source": [
    "## ポアソン乱数\n",
    "\n",
    "客の到着時間間隔 $t$ の確率密度が\n",
    "\n",
    "$$\n",
    "    f(t) = \\lambda e^{-\\lambda t}\n",
    "$$\n",
    "\n",
    "に従うということと、時間間隔 $t$ 内に $k$ 人の客が到着する確率が\n",
    "\n",
    "$$\n",
    "    p(k) = \\frac{(\\lambda t)^k}{k!}e^{-\\lambda t}\n",
    "$$\n",
    "\n",
    "であることが同等であることを利用する。\n",
    "\n",
    "![](https://www.ishikawa-lab.com/montecarlo/jpg/fig4-3-1.jpg)\n",
    "\n",
    "上の図のように指数分布乱数 $t_1, t_2, t3,$…を次々に発生させ、その総和が1を超えるまでの $k$ をカウントすれば、その $k$ が求めるポアソン分布乱数となる。すなわち、\n",
    "\n",
    "$$\n",
    "    p(k) = \\frac{(\\lambda t)^k}{k!}e^{-\\lambda t}\n",
    "$$\n",
    "\n",
    "となる最小の $k$ を求める。\n",
    "\n",
    "指数乱数 $t_n$ は一様乱数列 $r_n$ から\n",
    "\n",
    "$$\n",
    "    t_n = -\\frac{1}{\\lambda}\\log(1-r_n)\n",
    "$$\n",
    "\n",
    "と求めることが出来る。$\\log$ の計算は時間がかかるので、\n",
    "\n",
    "$$\n",
    "    \\sum_{n=0}^{k} -\\frac{1}{\\lambda}\\log(1-r_n) \\geqq 1\n",
    "$$\n",
    "\n",
    "において、指数関数と対数関数の関係から、\n",
    "\n",
    "$$\n",
    "    e^{-\\lambda} \\geqq \\prod_{n=0}^{k}(1-r_n)\n",
    "$$\n",
    "\n",
    "のとおり変形し、これを満たす最小の $k$ を求める。"
   ]
  },
  {
   "cell_type": "code",
   "execution_count": 2,
   "id": "99f4e96a-22af-424a-ad8f-9469092536f7",
   "metadata": {},
   "outputs": [
    {
     "data": {
      "image/png": "[encoded data removed]",
      "text/plain": [
       "Figure(PyObject <Figure size 640x480 with 1 Axes>)"
      ]
     },
     "metadata": {},
     "output_type": "display_data"
    },
    {
     "data": {
      "text/plain": [
       "(PyObject <matplotlib.patches.Rectangle object at 0x7f811081cb20>, PyObject <matplotlib.patches.Rectangle object at 0x7f811081c9a0>, PyObject <matplotlib.patches.Rectangle object at 0x7f811082b040>, PyObject <matplotlib.patches.Rectangle object at 0x7f811082b310>, PyObject <matplotlib.patches.Rectangle object at 0x7f811082b5e0>, PyObject <matplotlib.patches.Rectangle object at 0x7f811082b8b0>, PyObject <matplotlib.patches.Rectangle object at 0x7f811082bb80>, PyObject <matplotlib.patches.Rectangle object at 0x7f811082be50>, PyObject <matplotlib.patches.Rectangle object at 0x7f810dcd4160>, PyObject <matplotlib.patches.Rectangle object at 0x7f810dcd4430>, PyObject <matplotlib.patches.Rectangle object at 0x7f810dcd4700>, PyObject <matplotlib.patches.Rectangle object at 0x7f810dcd49d0>, PyObject <matplotlib.patches.Rectangle object at 0x7f810dcd4ca0>, PyObject <matplotlib.patches.Rectangle object at 0x7f810dcd4f70>, PyObject <matplotlib.patches.Rectangle object at 0x7f810dce2280>)"
      ]
     },
     "execution_count": 2,
     "metadata": {},
     "output_type": "execute_result"
    }
   ],
   "source": [
    "using Random\n",
    "using PyPlot\n",
    "\n",
    "number = 10000\n",
    "lambda = 1.0\n",
    "size = 15      # 図で描画する最大数\n",
    "f = zeros(Int, number)\n",
    "\n",
    "\"\"\"\n",
    "ポアソン乱数の発生\n",
    "\"\"\"\n",
    "function poisson(lambda::Float64)::Int\n",
    "    k = 0\n",
    "    xp = rand()\n",
    "    while (xp >= exp(-lambda))\n",
    "        xp *= rand()\n",
    "        k += 1\n",
    "    end\n",
    "    \n",
    "    return k\n",
    "end\n",
    "\n",
    "for j = 1:number\n",
    "    k = poisson(lambda)\n",
    "    f[k+1] += 1\n",
    "end\n",
    "\n",
    "x = 1:size\n",
    "bar(x, f[1:size] / number)"
   ]
  },
  {
   "cell_type": "markdown",
   "id": "6c3c6dcb-950c-4645-b730-fb6a9bcd74f7",
   "metadata": {},
   "source": [
    "## アーラン分布\n",
    "\n",
    "現実のデータを見ると、到着間隔やサービス時間が完全にランダムではなく、前の到着に影響を受け、指数分布に従わないことがある。そのような場合、アーラン分布が用いられる。\n",
    "\n",
    "$r_1, r_2, r_3,･･･r_k$　が互いに独立で、ともに平均が $k\\cdot\\lambda$ の指数分布に従うとする。そのとき、\n",
    "\n",
    "$$\n",
    "    x_k = r_1 + r_2 + r_3 + … + r_k\n",
    "$$\n",
    "\n",
    "の分布を**位相 $k$ のアーラン分布**という。ア－ラン分布は、下図のとおり、ポアソン到着で $k$　番目ごとの到着のみを着目したとき、その分布に相当する。$k=1$ の場合、指数分布に一致する。\n",
    "\n",
    "![](https://www.ishikawa-lab.com/montecarlo/jpg/fig4-4-1.jpg)\n",
    "\n",
    "位相 $k$ のア－ラン分布の乱数 $\\tau$ を発生させるには、平均 $1/(k\\lambda)$ の指数分布を $k$ 個発生させ、その和を $\\tau$ とすれば良い。従って、\n",
    "\n",
    "$$\n",
    "    \\tau = \\sum_{n-1}^{k}\\tau_n = -\\frac{1}{k\\lambda}\\sum_{n=1}^{k}\\log(1-r_n) \\\\\n",
    "         = -\\frac{1}{k\\lambda}\\left(\\log\\prod_{n=1}^{k}(1-r_n)\\right)\n",
    "$$\n",
    "\n",
    "のようにすれば、$\\log$ の計算を1回で済ませられる。\n",
    "\n",
    "下記計算結果から分かる通り、$k$ が大きくなると、中心極限定理にしたがい正規分布に近づく。指数分布のような極端な非対象の分布でも、たくさん集まれば、正規分布になる。"
   ]
  },
  {
   "cell_type": "code",
   "execution_count": 3,
   "id": "67aad5b6-de15-4c88-8641-bd2a16abb76b",
   "metadata": {},
   "outputs": [
    {
     "data": {
      "image/png": "[encoded data removed]",
      "text/plain": [
       "Figure(PyObject <Figure size 640x480 with 5 Axes>)"
      ]
     },
     "metadata": {},
     "output_type": "display_data"
    }
   ],
   "source": [
    "using Random\n",
    "using PyPlot\n",
    "\n",
    "number = 10000\n",
    "lambda = 1.0\n",
    "size = 15               # 図で描画する最大数\n",
    "kizami = 0.2            # この値ごとに区切ってヒストグラムに入れる\n",
    "f = zeros(Int, number)\n",
    "k = 1\n",
    "\n",
    "\"\"\"\n",
    "アーラン乱数の発生\n",
    "\"\"\"\n",
    "function erlang(lambda::Float64, k::Int)::Float64\n",
    "    tp = 1.0\n",
    "    for n = 1:k\n",
    "        tp *= (1-rand())\n",
    "    end\n",
    "    tau = -1.0 / (lambda * k) * log(tp)\n",
    "    return tau\n",
    "end\n",
    "\n",
    "fig = PyPlot.figure()\n",
    "\n",
    "for i = 1:5    \n",
    "    for j = 1:number\n",
    "        u = Int(ceil(erlang(lambda, k) / kizami))\n",
    "        f[u] += 1\n",
    "    end\n",
    "    ax = fig.add_subplot(5, 1, i)\n",
    "    x = 1:size\n",
    "    ax.bar(x, f[1:size] / number)\n",
    "    ax.set_ylim(0, 1)\n",
    "    k *= 2\n",
    "end"
   ]
  },
  {
   "cell_type": "markdown",
   "id": "10e33aeb-ef00-411e-bd88-fe633db916a8",
   "metadata": {},
   "source": [
    "## 正規乱数\n",
    "\n",
    "平均 $\\mu$, 標準偏差 $\\sigma$ の正規分布の確率密度関数は\n",
    "\n",
    "$$\n",
    "    f(x) = \\frac{1}{\\sigma\\sqrt{2\\pi}}-\\frac{1}{2}\\exp\\left(\\left(\\frac{x-\\mu}{\\sigma}\\right)^2\\right)\n",
    "$$\n",
    "\n",
    "で与えられ、$\\mu=0, \\sigma=1$ の値を持つ場合を**標準正規分布**と呼び、\n",
    "\n",
    "$$\n",
    "    f(x)=\\frac{1}{\\sqrt{2\\pi}}\\exp\\left(-\\frac{x^2}{2}\\right)\n",
    "$$\n",
    "\n",
    "で示される。\n",
    "\n",
    "$$\n",
    "    z = \\frac{x-\\mu}{\\sigma}\n",
    "$$\n",
    "\n",
    "とおくと、一般の正規分布は標準化された分布に変換できる。\n",
    "\n",
    "![](https://www.ishikawa-lab.com/montecarlo/jpg/fig4-5-1.jpg)\n",
    "\n",
    "### 中心極限定理による正規乱数\n",
    "\n",
    "任意の平均と標準偏差を持つ正規分布乱数（正規乱数）を作るには、中心極限定理を用いる。中心極限定理によれば、一様乱数 $r_i$ を $n$ 個合計したものの分布は、平均値が $n/2$, 分散が $n/12$ の正規分布に近くなる。従って、\n",
    "\n",
    "$$\n",
    "    z = \\sqrt{\\frac{12}{n}}\\left(\\sum_{i=1}^{n}r_i - \\frac{n}{2}\\right)\n",
    "$$\n",
    "\n",
    "とおけば、 $z$ の分布は標準正規分布となる。\n",
    "\n",
    "さらに、任意の平均値 $EX$, 標準偏差 $SD$ を持つ正規分布は\n",
    "\n",
    "$$\n",
    "    x = SD\\times \\sqrt{\\frac{12}{n}}\\left(\\sum_{i=1}^{n}r_i - \\frac{n}{2}\\right) + EX\n",
    "$$\n",
    "\n",
    "のように変換することにより得られる。\n",
    "\n",
    "「中心極限定理の実験」の結果より、8 個の一様乱数を加え合わせると、その分布は十分に正規分布に近いことが確かめられるので、上の式で $n=12$ とすれば、平方根の計算をせずに済む。すなわち、\n",
    "\n",
    "$$\n",
    "    x = SD\\times\\left(\\sum_{i=1}^{12}r_i -6\\right) +EX\n",
    "$$\n",
    "\n",
    "として、正規乱数を作ることが出来る。"
   ]
  },
  {
   "cell_type": "code",
   "execution_count": 4,
   "id": "6ebfeb3a-f87f-46f4-9977-5cee6479d88a",
   "metadata": {},
   "outputs": [
    {
     "data": {
      "image/png": "[encoded data removed]",
      "text/plain": [
       "Figure(PyObject <Figure size 640x480 with 1 Axes>)"
      ]
     },
     "metadata": {},
     "output_type": "display_data"
    },
    {
     "data": {
      "text/plain": [
       "(PyObject <matplotlib.patches.Rectangle object at 0x7f8110d28880>, PyObject <matplotlib.patches.Rectangle object at 0x7f8110d28700>, PyObject <matplotlib.patches.Rectangle object at 0x7f8110d28d60>, PyObject <matplotlib.patches.Rectangle object at 0x7f8110d36070>, PyObject <matplotlib.patches.Rectangle object at 0x7f8110d36340>, PyObject <matplotlib.patches.Rectangle object at 0x7f8110d36610>, PyObject <matplotlib.patches.Rectangle object at 0x7f8110d368e0>, PyObject <matplotlib.patches.Rectangle object at 0x7f8110d36bb0>, PyObject <matplotlib.patches.Rectangle object at 0x7f8110d36e80>, PyObject <matplotlib.patches.Rectangle object at 0x7f8110e29190>, PyObject <matplotlib.patches.Rectangle object at 0x7f8110e29460>, PyObject <matplotlib.patches.Rectangle object at 0x7f8110e29730>, PyObject <matplotlib.patches.Rectangle object at 0x7f8110e29a00>, PyObject <matplotlib.patches.Rectangle object at 0x7f8110e29cd0>, PyObject <matplotlib.patches.Rectangle object at 0x7f8110e29fa0>, PyObject <matplotlib.patches.Rectangle object at 0x7f8110e382b0>, PyObject <matplotlib.patches.Rectangle object at 0x7f8110e38580>, PyObject <matplotlib.patches.Rectangle object at 0x7f8110e38850>, PyObject <matplotlib.patches.Rectangle object at 0x7f8110e38b20>, PyObject <matplotlib.patches.Rectangle object at 0x7f8110e38df0>)"
      ]
     },
     "execution_count": 4,
     "metadata": {},
     "output_type": "execute_result"
    }
   ],
   "source": [
    "using Random\n",
    "using PyPlot\n",
    "\n",
    "number = 10000\n",
    "size = 20               # 図で描画する最大数\n",
    "kizami = 0.2            # この値ごとに区切ってヒストグラムに入れる\n",
    "ex = 10.0               # 平均値\n",
    "sd = 2.0                # 標準偏差\n",
    "\n",
    "f = zeros(Int, number)\n",
    "k = 1\n",
    "\n",
    "\"\"\"\n",
    "正規乱数の発生\n",
    "\"\"\"\n",
    "function normal(ex::Float64, sd::Float64)::Float64\n",
    "    xw = 0.0\n",
    "    for n = 1:12\n",
    "        xw += rand()\n",
    "    end\n",
    "    x = sd * (xw - 6.0) + ex\n",
    "    return x\n",
    "end\n",
    "\n",
    "for j = 1:number\n",
    "    u = Int(ceil(normal(ex, sd)))\n",
    "    if u >= 0\n",
    "        f[u] += 1\n",
    "    end\n",
    "end\n",
    "\n",
    "x = 1:size\n",
    "bar(x, f[1:size] / number)"
   ]
  },
  {
   "cell_type": "markdown",
   "id": "299d0868-c356-446e-b2d5-414685aa8ef4",
   "metadata": {},
   "source": [
    "## 任意の分布乱数を作る\n",
    "\n",
    "理論分布が分からずとも、ある現象の統計をとったときの度数分布が分かっている場合、その分布に従った乱数を発生させい、再現実験をすることが出来る。以下の様のような度数分布 $f(x)$ が与えられたとき、累積分布関数 $g(i)$ に逆関数法を用いて一様乱数を代入することにより分布乱数を発生させる。\n",
    "\n",
    "|$x$|$i$|$f(x)$|$g(i)$|\n",
    "|---|---|---|---|\n",
    "|0.1|1|0.02|0.02|\n",
    "|0.2|2|0.36|0.38|\n",
    "|0.3|3|0.34|0.72|\n",
    "|0.4|4|0.13|0.85|\n",
    "|0.5|5|0.07|0.92|\n",
    "|0.6|6|0.03|0.95|\n",
    "|0.7|7|0.02|0.97|\n",
    "|0.8|8|0.01|0.98|\n",
    "|0.9|9|0.01|0.99|\n",
    "|1.0|10|0.01|1.00|\n",
    "\n",
    "![](https://www.ishikawa-lab.com/montecarlo/jpg/fig4-6-1.jpg)\n",
    "\n",
    "$x$ のキザミ幅を $x_0$ とし、キザミの番号を $i$ としたとき（$i=1$ から $k$）、累積分布を表のように $g(i)$ とする。プログラム上では、表の値を`g[i]` に代入する。任意分布乱数発生の関数で、`Random.rand()`により乱数 `r` を発生させ、`g[i]` の配列を `i` の小さい方から見ていき、 `g[i] > r` となったら、その `r` と `i` により、\n",
    "\n",
    "$$\n",
    "    x = \\frac{r-g(i-1)}{g(i)-g(i-1)}\\times x_0 + (i-1)\\times x_0\n",
    "$$\n",
    "\n",
    "として、 $x$ を求める。"
   ]
  },
  {
   "cell_type": "code",
   "execution_count": 5,
   "id": "9ef7c84c-f072-49e3-bea4-66829d62ce47",
   "metadata": {},
   "outputs": [
    {
     "data": {
      "image/png": "[encoded data removed]",
      "text/plain": [
       "Figure(PyObject <Figure size 640x480 with 1 Axes>)"
      ]
     },
     "metadata": {},
     "output_type": "display_data"
    },
    {
     "data": {
      "text/plain": [
       "(PyObject <matplotlib.patches.Rectangle object at 0x7f8110e9cdc0>, PyObject <matplotlib.patches.Rectangle object at 0x7f8110e9cc40>, PyObject <matplotlib.patches.Rectangle object at 0x7f8110d482e0>, PyObject <matplotlib.patches.Rectangle object at 0x7f8110d485b0>, PyObject <matplotlib.patches.Rectangle object at 0x7f8110d48880>, PyObject <matplotlib.patches.Rectangle object at 0x7f8110d48b50>, PyObject <matplotlib.patches.Rectangle object at 0x7f8110d48e20>, PyObject <matplotlib.patches.Rectangle object at 0x7f8110d58130>, PyObject <matplotlib.patches.Rectangle object at 0x7f8110d58400>, PyObject <matplotlib.patches.Rectangle object at 0x7f8110d586d0>)"
      ]
     },
     "execution_count": 5,
     "metadata": {},
     "output_type": "execute_result"
    }
   ],
   "source": [
    "using Random\n",
    "using PyPlot\n",
    "\n",
    "number = 10000\n",
    "size = 10               # 図で描画する最大数\n",
    "f = zeros(Int, number)\n",
    "g = [0.0,0.02,0.38,0.72,0.85,0.92,0.95,0.97,0.98,0.99,1.0]\n",
    "\n",
    "function general(g::Array{Float64})::Float64\n",
    "    x0 = 1.0 / size\n",
    "    r = rand()\n",
    "    i = 1\n",
    "    \n",
    "    while(g[i] < r) \n",
    "        i += 1\n",
    "    end\n",
    "    x = (r - g[i-1]) / (g[i] - g[i-1]) * x0 + (i - 1) * x0\n",
    "    return x\n",
    "end\n",
    "\n",
    "for j = 1:number\n",
    "    u = Int(ceil(general(g) * size))\n",
    "    if u >= 1\n",
    "        f[u] += 1\n",
    "    end\n",
    "end\n",
    "\n",
    "x = 1:size\n",
    "bar(x, f[1:size] / number)"
   ]
  },
  {
   "cell_type": "markdown",
   "id": "9dafcd91-0fd3-4041-a1ab-7e8266f72bd5",
   "metadata": {},
   "source": [
    "## 演習問題\n",
    "\n",
    "1. 区間 $[0, 1)$ の２つの乱数 $r_1$, $r_2$ を発生させ、\n",
    "$$\n",
    "    x_1 = \\sqrt{-2\\log r_1}\\cos 2\\pi r_2 \\\\\n",
    "    x_2 = \\sqrt{-2\\log r_1}\\sin 2\\pi r_2\n",
    "$$\n",
    "  とすれば、$x_1$, $x_2$ は互いに独立な標準正規乱数となる。これを用い、平均 $EX$、標準偏差 $SD$ の正規乱数を発生するプログラムを作りなさい。\n",
    "  \n",
    "2. 「２個のサイコロの目 の合計は、2 から 12 までに分布するが、7 の場合の確率が最も高い（この場合三角分布となる）」というように、2 つの一様乱数の和の分布が、平均 1 の三角分布となることを用いて、任意の三角分布乱数を発生するプログラムをつくれ。"
   ]
  },
  {
   "cell_type": "markdown",
   "id": "ca03cff8-6b9c-46b2-96a1-b55fa8e3da8d",
   "metadata": {},
   "source": [
    "### 演習問題 1 解答"
   ]
  },
  {
   "cell_type": "code",
   "execution_count": 6,
   "id": "b4a7f9c4-6ddf-4d19-a73c-bf77fd89cacc",
   "metadata": {},
   "outputs": [
    {
     "data": {
      "image/png": "[encoded data removed]",
      "text/plain": [
       "Figure(PyObject <Figure size 640x480 with 2 Axes>)"
      ]
     },
     "metadata": {},
     "output_type": "display_data"
    },
    {
     "data": {
      "text/plain": [
       "(PyObject <matplotlib.patches.Rectangle object at 0x7f8110ec7070>, PyObject <matplotlib.patches.Rectangle object at 0x7f8110eb9eb0>, PyObject <matplotlib.patches.Rectangle object at 0x7f8110ec7550>, PyObject <matplotlib.patches.Rectangle object at 0x7f8110ec7820>, PyObject <matplotlib.patches.Rectangle object at 0x7f8110ec7af0>, PyObject <matplotlib.patches.Rectangle object at 0x7f8110ec7dc0>, PyObject <matplotlib.patches.Rectangle object at 0x7f8110ed50d0>, PyObject <matplotlib.patches.Rectangle object at 0x7f8110ed53a0>, PyObject <matplotlib.patches.Rectangle object at 0x7f8110ed5670>, PyObject <matplotlib.patches.Rectangle object at 0x7f8110ed5940>, PyObject <matplotlib.patches.Rectangle object at 0x7f8110ed5c10>, PyObject <matplotlib.patches.Rectangle object at 0x7f8110ed5ee0>, PyObject <matplotlib.patches.Rectangle object at 0x7f8110ee31f0>, PyObject <matplotlib.patches.Rectangle object at 0x7f8110ee34c0>, PyObject <matplotlib.patches.Rectangle object at 0x7f8110ee3790>, PyObject <matplotlib.patches.Rectangle object at 0x7f8110ee3a60>, PyObject <matplotlib.patches.Rectangle object at 0x7f8110ee3d30>, PyObject <matplotlib.patches.Rectangle object at 0x7f8111315040>, PyObject <matplotlib.patches.Rectangle object at 0x7f8111315310>, PyObject <matplotlib.patches.Rectangle object at 0x7f81113155e0>)"
      ]
     },
     "execution_count": 6,
     "metadata": {},
     "output_type": "execute_result"
    }
   ],
   "source": [
    "using Random\n",
    "using PyPlot\n",
    "\n",
    "number = 10000\n",
    "size = 20               # 図で描画する最大数\n",
    "ex = 10.0\n",
    "sd = 2.0\n",
    "f = zeros(Int, number)\n",
    "g = zeros(Int, number)\n",
    "\n",
    "function normal1(ex::Float64, sd::Float64)::Float64\n",
    "    xw = sqrt(-2.0 * log(rand())) * cos( 2.0 * π * rand())\n",
    "    x = sd * xw + ex\n",
    "end\n",
    "\n",
    "function normal2(ex::Float64, sd::Float64)::Float64\n",
    "    xw = sqrt(-2.0 * log(rand())) * sin( 2.0 * π * rand())\n",
    "    x = sd * xw + ex\n",
    "end\n",
    "\n",
    "for j = 1:number\n",
    "    u = Int(ceil(normal1(ex, sd)))\n",
    "    v = Int(ceil(normal2(ex, sd)))\n",
    "    if u >= 0\n",
    "        f[u] += 1\n",
    "    end\n",
    "    if v >= 0\n",
    "        g[v] += 1\n",
    "    end\n",
    "end\n",
    "\n",
    "fig = PyPlot.figure()\n",
    "x = 1:size\n",
    "\n",
    "ax1 = fig.add_subplot(2, 1, 1)\n",
    "ax1.bar(x, f[x] / number)\n",
    "\n",
    "ax2 = fig.add_subplot(2, 1, 2)\n",
    "ax2.bar(x, f[x] / number)"
   ]
  },
  {
   "cell_type": "markdown",
   "id": "0527a46f-7f1c-4649-aaed-528c2fa67e31",
   "metadata": {},
   "source": [
    "### 演習 2 解答"
   ]
  },
  {
   "cell_type": "code",
   "execution_count": 7,
   "id": "ec1cdd6e-7998-4d1a-bc3e-7c92ce7d6cdb",
   "metadata": {},
   "outputs": [
    {
     "data": {
      "image/png": "[encoded data removed]",
      "text/plain": [
       "Figure(PyObject <Figure size 640x480 with 1 Axes>)"
      ]
     },
     "metadata": {},
     "output_type": "display_data"
    },
    {
     "data": {
      "text/plain": [
       "(PyObject <matplotlib.patches.Rectangle object at 0x7f810d8e4fd0>, PyObject <matplotlib.patches.Rectangle object at 0x7f810d8e4280>, PyObject <matplotlib.patches.Rectangle object at 0x7f810d8ef940>, PyObject <matplotlib.patches.Rectangle object at 0x7f810d8efbe0>, PyObject <matplotlib.patches.Rectangle object at 0x7f8110843ac0>, PyObject <matplotlib.patches.Rectangle object at 0x7f811087fb80>, PyObject <matplotlib.patches.Rectangle object at 0x7f8110895be0>, PyObject <matplotlib.patches.Rectangle object at 0x7f811088a640>, PyObject <matplotlib.patches.Rectangle object at 0x7f811088a9d0>, PyObject <matplotlib.patches.Rectangle object at 0x7f811088cca0>, PyObject <matplotlib.patches.Rectangle object at 0x7f81108a1c40>, PyObject <matplotlib.patches.Rectangle object at 0x7f81108dc8b0>, PyObject <matplotlib.patches.Rectangle object at 0x7f8110bcea30>, PyObject <matplotlib.patches.Rectangle object at 0x7f81108e6550>, PyObject <matplotlib.patches.Rectangle object at 0x7f81108e6730>, PyObject <matplotlib.patches.Rectangle object at 0x7f8110bc6ca0>, PyObject <matplotlib.patches.Rectangle object at 0x7f8110c16070>, PyObject <matplotlib.patches.Rectangle object at 0x7f8110c161f0>, PyObject <matplotlib.patches.Rectangle object at 0x7f8110c20220>, PyObject <matplotlib.patches.Rectangle object at 0x7f8110c206a0>)"
      ]
     },
     "execution_count": 7,
     "metadata": {},
     "output_type": "execute_result"
    }
   ],
   "source": [
    "using Random\n",
    "using PyPlot\n",
    "\n",
    "number = 10000\n",
    "size = 20               # 図で描画する最大数\n",
    "a = 5.0                 # 三角分布の下限\n",
    "b = 15.0                # 三角分布の上限\n",
    "f = zeros(Int, number)\n",
    "\n",
    "for j = 1:number\n",
    "    x = (b + a) / 2.0 + ((rand() + rand()) - 1.0) * (b - a) / 2.0\n",
    "    u = Int(ceil(x))\n",
    "    f[u] += 1\n",
    "end\n",
    "\n",
    "x = 1:size\n",
    "bar(x, f[x] / number)"
   ]
  }
 ],
 "metadata": {
  "kernelspec": {
   "display_name": "Julia 1.6.1",
   "language": "julia",
   "name": "julia-1.6"
  },
  "language_info": {
   "file_extension": ".jl",
   "mimetype": "application/julia",
   "name": "julia",
   "version": "1.6.1"
  }
 },
 "nbformat": 4,
 "nbformat_minor": 5
}
