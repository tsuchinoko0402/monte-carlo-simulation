{
 "cells": [
  {
   "cell_type": "markdown",
   "id": "be5b2ef4-ffea-4ca2-ac60-3ec7bfebf29a",
   "metadata": {},
   "source": [
    "# 1. 乱数の発生方法\n",
    "\n",
    "モンテカルロ法で利用する乱数の発生方法とその性質について。\n",
    "\n",
    "## そもそも、乱数とは\n",
    "\n",
    "- 乱数(random value)とは、サイコロの出目のように規則性がなく予測不能な数値のこと。何度も生成した時に、すでに分かっている値の列から次に現れる値を予測できないような数値の列を乱数列と呼び、その中の個々の値を乱数という。（[IT用語辞典](https://e-words.jp/w/%E4%B9%B1%E6%95%B0.html)）\n",
    "\n",
    "## 疑似乱数\n",
    "\n",
    "- 一見乱数のように規則性のない数の並びのように見えるが、一定の計算手順によって確定的に与えられる数値の列。また、その中の個々の数値。\n",
    "    - 擬似乱数は初期値（シード値）と計算手順が同じなら同じ数列が得られるため、数値シミュレーションなどではまったく同じ環境・状態の再現が可能となる。\n",
    "- 疑似乱数が満たすべき条件は以下の4つ：\n",
    "    1. 周期が長いこと\n",
    "    2. 統計的検定に耐えること（周期が長くても、規則性があっては意味がない）\n",
    "    3. 再現性があること（同じ乱数の種（初期値）を使えば、同じ乱数が出力できる）\n",
    "    4. 乱数発生のスピードが早いこと\n",
    "\n",
    "## Julia の乱数発生機構\n",
    "\n",
    "- Julia には、乱数発生器として `Random.rand()` 関数が用意されている。\n",
    "    - [Random Numbers](https://docs.julialang.org/en/v1/stdlib/Random/)\n",
    "- 関数 `rand()` の使い方：\n",
    "    - 第1引数：乱数の範囲のコレクション\n",
    "    - 第2引数：出力する乱数の個数（行列でも良い）\n",
    "- 以下、出力例："
   ]
  },
  {
   "cell_type": "code",
   "execution_count": 1,
   "id": "43b0a870-fd4d-4014-908c-ec2272eb38fb",
   "metadata": {},
   "outputs": [
    {
     "data": {
      "text/plain": [
       "0.5455646495582072"
      ]
     },
     "execution_count": 1,
     "metadata": {},
     "output_type": "execute_result"
    }
   ],
   "source": [
    "rand()"
   ]
  },
  {
   "cell_type": "code",
   "execution_count": 2,
   "id": "50677745-d36c-4240-944b-f03da9c62939",
   "metadata": {},
   "outputs": [
    {
     "data": {
      "text/plain": [
       "5-element Vector{Float64}:\n",
       " 0.39235536810714744\n",
       " 0.446152770454493\n",
       " 0.34271016675278876\n",
       " 0.4412867129667668\n",
       " 0.32237920384584573"
      ]
     },
     "execution_count": 2,
     "metadata": {},
     "output_type": "execute_result"
    }
   ],
   "source": [
    "rand(5)"
   ]
  },
  {
   "cell_type": "code",
   "execution_count": 3,
   "id": "e560c890-2299-4c4e-a010-c3b2744868fa",
   "metadata": {},
   "outputs": [
    {
     "data": {
      "text/plain": [
       "10-element Vector{Int64}:\n",
       " 4\n",
       " 1\n",
       " 4\n",
       " 6\n",
       " 4\n",
       " 6\n",
       " 5\n",
       " 1\n",
       " 5\n",
       " 3"
      ]
     },
     "execution_count": 3,
     "metadata": {},
     "output_type": "execute_result"
    }
   ],
   "source": [
    "rand(1:6, 10)"
   ]
  },
  {
   "cell_type": "code",
   "execution_count": 4,
   "id": "d4125d53-8f52-4faa-ad76-7e6e1e331abf",
   "metadata": {},
   "outputs": [
    {
     "data": {
      "text/plain": [
       "3-element Vector{Int64}:\n",
       " -6530542584229124820\n",
       "  -706045200000852418\n",
       " -7496776384956152571"
      ]
     },
     "execution_count": 4,
     "metadata": {},
     "output_type": "execute_result"
    }
   ],
   "source": [
    "rand(Int, 3)"
   ]
  },
  {
   "cell_type": "code",
   "execution_count": 5,
   "id": "4765557b-c921-49e8-a97a-e7c716075b1d",
   "metadata": {},
   "outputs": [
    {
     "data": {
      "text/plain": [
       "2×3 Matrix{Float64}:\n",
       " 0.666195  0.071927  0.720947\n",
       " 0.813906  0.334357  0.661256"
      ]
     },
     "execution_count": 5,
     "metadata": {},
     "output_type": "execute_result"
    }
   ],
   "source": [
    "rand(Float64, (2,3))"
   ]
  },
  {
   "cell_type": "markdown",
   "id": "be6e510e-c0f5-4218-8930-4ea161336786",
   "metadata": {},
   "source": [
    "- `Random.seed!()` を使って、乱数の種を指定することが可能"
   ]
  },
  {
   "cell_type": "code",
   "execution_count": 6,
   "id": "d9ad7634-89c7-42cb-bc34-aef8492b9939",
   "metadata": {},
   "outputs": [
    {
     "data": {
      "text/plain": [
       "0.11258244478647295"
      ]
     },
     "execution_count": 6,
     "metadata": {},
     "output_type": "execute_result"
    }
   ],
   "source": [
    "using Random\n",
    "\n",
    "Random.seed!(10)\n",
    "rand()"
   ]
  },
  {
   "cell_type": "code",
   "execution_count": 7,
   "id": "ea2d1fd4-d206-4c2b-ae8a-1f708fdd5027",
   "metadata": {},
   "outputs": [
    {
     "data": {
      "text/plain": [
       "0.11258244478647295"
      ]
     },
     "execution_count": 7,
     "metadata": {},
     "output_type": "execute_result"
    }
   ],
   "source": [
    "using Random\n",
    "\n",
    "Random.seed!(10)\n",
    "rand()"
   ]
  },
  {
   "cell_type": "markdown",
   "id": "716b543b-0495-47bc-854d-6cc008cd5530",
   "metadata": {},
   "source": [
    "## 頻度検定\n",
    "\n",
    "- 上記の関数で発生させた乱数が一様に分布しているかを調べる。\n",
    "- 処理の概要は以下の通り：\n",
    "    - `Random.rand(1:10)` で 1 ~ 10 の乱数を 10000 個発生させる\n",
    "    - 1 ごとの刻み幅：0 ~ 1, 1 ~ 2, 2 ~ 3,…にそれぞれ何個の乱数が入るかをカウントする\n",
    "\n",
    "### 理論分布との比較\n",
    "\n",
    "- 今回の理論分布 $f_0$ は $10000 / 10 = 1000$ となるはず。\n",
    "- 一般に統計学では母集団をサンプリングして得られた分布と、既知の分布との間に差があるかどうかを判定することを、**適合度の検定**（以下では単に**検定**）と言う。\n",
    "- 今回の一様乱数発生の例では、サンプリング・データは $f(i)$ 、既知の分布は $f_0 = 1000$ に相当する。\n",
    "\n",
    "### 検定\n",
    "\n",
    "- 検定は次のように行う：\n",
    "    - $f_0$: 期待値\n",
    "    - $f(k)$: 実現値\n",
    "\n",
    "$$\n",
    "    \\sum_{k=1}^{n}\\frac{(f(k) - f_0)^2}{f_0}\n",
    "$$\n",
    "\n",
    "- 今回の例で書けば以下：\n",
    "$$\n",
    "    \\frac{(f(1) - f_0)^2}{f_0} + \\frac{(f(2) - f_0)^2}{f_0} + ... + \\frac{(f(10) - f_0)^2}{f_0}\n",
    "$$\n",
    "\n",
    "- これを通常 $\\chi^2$（カイ二乗）といい、サンプリングデータと理論度数との食い違いの程度を表す。\n",
    "    - サンプリングデータと理論度数の食い違いが全くなければ、$\\chi^2 = 0$ となり、食い違いが大きいほど $\\chi^2$ は大きくなる。\n",
    "- 同じ母集団からのサンプリングのやり方は、何通りもあるので、　$\\chi^2 = 0$ は **$\\chi^2$ 分布** と呼ばれる分布に従う。\n",
    "- $\\chi^2$ 分布は自由度と呼ばれるパラメータを持つ\n",
    "    - 今回の場合は 9 （刻みの数 - 1）である。\n",
    "    - [分布の形](https://images.app.goo.gl/k3k6CTGkPkEDzTSC9)\n",
    "    - [分布表](http://www3.u-toyama.ac.jp/kkarato/2016/statistics/handout/chisqdist.pdf)\n",
    "        - サンプリング・データから得られた $\\chi^2$ が　$\\chi_{\\alpha}^2$ より小さければ、”危険率 $\\alpha$ で理論度数とサンプリング・データが等しい”と言えることになる"
   ]
  },
  {
   "cell_type": "code",
   "execution_count": 8,
   "id": "98fd2b43-0e62-4333-b541-843b4893c9a2",
   "metadata": {},
   "outputs": [
    {
     "name": "stdout",
     "output_type": "stream",
     "text": [
      " i  f[i]\n",
      " 1   995\n",
      " 2  1014\n",
      " 3   936\n",
      " 4   976\n",
      " 5  1020\n",
      " 6  1011\n",
      " 7  1001\n",
      " 8  1036\n",
      " 9  1010\n",
      "10  1001\n",
      "xs = 6.812\n"
     ]
    }
   ],
   "source": [
    "using Printf\n",
    "\n",
    "num = 10000         # 発生させる乱数の数\n",
    "f = zeros(Int, 10)  # 刻み i に落ちる乱数の数\n",
    "xs = 0.0            # カイ二乗の値\n",
    "f0 = num / 10.0     # 理論度数\n",
    "\n",
    "for j = 1:num\n",
    "    i = rand(1:10)\n",
    "    f[i] += 1\n",
    "end\n",
    "\n",
    "@printf \"%2s %5s\\n\" \"i\" \"f[i]\"\n",
    "\n",
    "# 頻度の検定\n",
    "for i = 1:10\n",
    "    @printf \"%2d %5d\\n\" i  f[i]\n",
    "    xs = xs + (f[i] - f0)^2 / f0\n",
    "end\n",
    "\n",
    "println(\"xs = $xs\")"
   ]
  },
  {
   "cell_type": "markdown",
   "id": "e0b29d94-ecd5-452e-b9c1-df9a895e128a",
   "metadata": {},
   "source": [
    "- プログラムの `xs` は $\\chi^2$ を計算している。\n",
    "- 分布表より、自由度 9 における危険率 5% の $\\chi_{\\alpha}^2$ の値は、 16.919 なので、`Random.rand(1:10)` メソッドは頻度テストは合格したことになる。"
   ]
  },
  {
   "cell_type": "markdown",
   "id": "08c82d0d-4927-4195-94ce-ca81f26d38af",
   "metadata": {},
   "source": [
    "## ポーカー検定(poker test)\n",
    "\n",
    "- ポーカー検定は、無規則性の検定の手法\n",
    "    - 繰り返しが規則的で、乱数とは言えない状態ではないかを検証する\n",
    "- 整数の乱数の列を連続して 5 つずつまとめ、5 桁の数字とみて組を作り、各組を 7 つの型に分類し、各種類の 5 個組の数についてカイ2乗検定を行う\n",
    "    1. abcde(すべて異種)\n",
    "    2. aabcd(ペアが1組ある)\n",
    "    3. aabbc(ペアが2組ある)\n",
    "    4. aaabc(3個同種)\n",
    "    5. aaabb(3個同種とペアが1組)\n",
    "    6. aaaab(4個同種)\n",
    "    7. aaaaa(5個同種)\n",
    "- これらの起こる確率は理論的に求められ、[表](https://www.ishikawa-lab.com/montecarlo/jpg/table2-3-1.jpg)のとおりとなる。\n",
    "\n",
    "### ポーカー検定のプログラム\n",
    "\n",
    "- 大きな流れは以下の通り：\n",
    "    - `Random.rand(0:9)` で 5 個の整数の並びを作成：`n[1], n[2], n[3], n[4], n[5]` とする\n",
    "- 次に、下の図のとおり比較を行い、同じ数字であれば `count` を 1 増加させる\n",
    "    - 全部同じ数字であれば `count = 10` となり、全部異なれば `count = 0` となる\n",
    "    ![](https://www.ishikawa-lab.com/montecarlo/jpg/fig2-4-11.jpg)\n",
    "- 上記で挙げた 7 つの型に対して、 `count` は[表](https://www.ishikawa-lab.com/montecarlo/jpg/table2-4-1.jpg)の値を取るので、それを「型の番号」である `i` に変換する。\n",
    "- 頻度 `f[i]` をカウントし、$\\chi^2$ を以下により求め, 自由度 6 の $\\chi^2$ 分布表を用いて検定する：\n",
    "\n",
    "$$\n",
    "    \\chi^2 = \\sum_{i=1}^{7}\\frac{(f(i) - f_0(i))^2}{f_0(i)}\n",
    "$$"
   ]
  },
  {
   "cell_type": "code",
   "execution_count": 9,
   "id": "c5bc39d0-48e7-4785-91bf-62ba449a0695",
   "metadata": {},
   "outputs": [
    {
     "name": "stdout",
     "output_type": "stream",
     "text": [
      " i       f[i]      f0[i]\n",
      " 1     302399     302400\n",
      " 2     504318     504000\n",
      " 3     107806     108000\n",
      " 4      71890      72000\n",
      " 5       9024       9000\n",
      " 6       4472       4500\n",
      " 7         91        100\n",
      "xs = 1.7654054232804235\n"
     ]
    }
   ],
   "source": [
    "using Printf\n",
    "\n",
    "num = 1000000       # 発生させる乱数の数\n",
    "f = zeros(Int, 7)   # iごとの度数\n",
    "f0 = zeros(Int, 7)  # 理論度数\n",
    "n = zeros(Int, 5)   # 5個の数字の並び\n",
    "xs = 0.0            # カイ二乗の値\n",
    "\n",
    "f0[1] = num * 0.3024\n",
    "f0[2] = num * 0.5040\n",
    "f0[3] = num * 0.1080\n",
    "f0[4] = num * 0.0720\n",
    "f0[5] = num * 0.0090\n",
    "f0[6] = num * 0.0045\n",
    "f0[7] = num * 0.0001\n",
    "\n",
    "for k = 1:num\n",
    "    for j = 1:5\n",
    "        n[j] = rand(0:9)\n",
    "    end\n",
    "    \n",
    "    count = 0\n",
    "    \n",
    "    for j1 = 1:4\n",
    "        for j2 = (j1+1):5\n",
    "            if n[j1] == n[j2]\n",
    "                count += 1\n",
    "            end\n",
    "        end\n",
    "    end\n",
    "    \n",
    "    if count == 10 \n",
    "        i = 7\n",
    "    elseif count == 6\n",
    "        i = 6\n",
    "    else\n",
    "        i = count + 1\n",
    "    end\n",
    "    \n",
    "    f[i] += 1\n",
    "    \n",
    "end\n",
    "\n",
    "@printf \"%2s %10s %10s\\n\" \"i\" \"f[i]\" \"f0[i]\"\n",
    "\n",
    "for i = 1:7\n",
    "    @printf \"%2d %10d %10d\\n\" i f[i] f0[i]\n",
    "    diff = f[i] - f0[i]\n",
    "    xs = xs + diff^2 / f0[i]\n",
    "end\n",
    "\n",
    "println(\"xs = $xs\")"
   ]
  },
  {
   "cell_type": "markdown",
   "id": "c304e58e-4c3a-44fc-8f79-bae874314e0a",
   "metadata": {},
   "source": [
    "- `Random.rand()` はポーカーテストにおいても合格する"
   ]
  },
  {
   "cell_type": "markdown",
   "id": "2b9c8756-7331-4e56-a27a-ee1bb2255300",
   "metadata": {},
   "source": [
    "## 演習\n",
    "\n",
    "1. 1 から 6 までの整数が等確率で出現する、さいころのシミュレーションを行ないなさい。さいころをふるたびに、でたらめな数がでるようにしなさい。\n",
    "2. 1 桁の区間 0 から 9 までの乱数があったとき、同じ数が現われるまでの間隔を、ギャップといいます。その長さが $r$ である確率 $p$ は、\n",
    "$$\n",
    "    p = \\left( 1 - \\frac{1}{10}\\right)^{r} \\cdot\\frac{1}{10}\n",
    "$$\n",
    "で表されます。（$r = 0$ は、続いて同じ数字が現われた場合）。このことを用いて、 `Random.rand()` メソッドの乱数のギャップ検定を行ないなさい。"
   ]
  },
  {
   "cell_type": "markdown",
   "id": "e0d9e1c6-eea6-406a-baa5-22205d71f5e3",
   "metadata": {},
   "source": [
    "### 演習1 解答"
   ]
  },
  {
   "cell_type": "code",
   "execution_count": 10,
   "id": "e5d04d2c-0b57-4be3-ad55-b321f150ac81",
   "metadata": {},
   "outputs": [
    {
     "data": {
      "text/plain": [
       "10-element Vector{Int64}:\n",
       " 6\n",
       " 6\n",
       " 4\n",
       " 3\n",
       " 4\n",
       " 4\n",
       " 3\n",
       " 2\n",
       " 1\n",
       " 3"
      ]
     },
     "execution_count": 10,
     "metadata": {},
     "output_type": "execute_result"
    }
   ],
   "source": [
    "rand(1:6, 10)"
   ]
  },
  {
   "cell_type": "markdown",
   "id": "1a71bd66-9d9d-49c5-8088-352b2115f650",
   "metadata": {},
   "source": [
    "### 演習2 解答"
   ]
  },
  {
   "cell_type": "code",
   "execution_count": 11,
   "id": "28384a42-97b9-4521-b76a-6ae094b3befb",
   "metadata": {},
   "outputs": [
    {
     "name": "stdout",
     "output_type": "stream",
     "text": [
      "   r       f[r]      f0[r]\n",
      "   0        993       1000\n",
      "   1        913        900\n",
      "   2        797        810\n",
      "   3        765        729\n",
      "   4        660        656\n",
      "   5        501        590\n",
      "   6        549        531\n",
      "   7        481        478\n",
      "   8        439        430\n",
      "   9        413        387\n",
      "  10        368        349\n",
      "  11        313        314\n",
      "  12        254        282\n",
      "  13        274        254\n",
      "  14        231        229\n",
      "  15        204        206\n",
      "  16        199        185\n",
      "  17        167        167\n",
      "  18        144        150\n",
      "  19        136        135\n",
      "xs = 25.046889639353665\n"
     ]
    }
   ],
   "source": [
    "using Printf\n",
    "\n",
    "max = 9               # 区間の最大の数\n",
    "num = 10000           # 乱数の数\n",
    "an = rand(0:max, num) # 0~max の乱数の列\n",
    "f = zeros(Int, num)   # ギャップ r になった頻度\n",
    "xs = 0.0              # カイ二乗数\n",
    "\n",
    "# ギャップの長さが r である確率\n",
    "function p(r::Int)\n",
    "    return (1 - (1/(max+1)))^r * (1/(max+1))\n",
    "end\n",
    "\n",
    "r = 0 # ギャップ\n",
    "\n",
    "for j = 0:max\n",
    "    for i = 1:num\n",
    "        if (an[i] == j)\n",
    "            f[r+1] += 1\n",
    "            r = 0\n",
    "        else\n",
    "            r += 1\n",
    "        end\n",
    "    end\n",
    "end\n",
    "\n",
    "@printf \"%4s %10s %10s\\n\" \"r\" \"f[r]\" \"f0[r]\"\n",
    "\n",
    "for r = 0:19\n",
    "    f0 = p(r) * num # 理論値の計算\n",
    "    @printf \"%4d %10d %10d\\n\" r f[r+1] f0\n",
    "    xs = xs + (f[r+1] - f0)^2 / f0\n",
    "end\n",
    "\n",
    "println(\"xs = $xs\")"
   ]
  }
 ],
 "metadata": {
  "kernelspec": {
   "display_name": "Julia 1.6.1",
   "language": "julia",
   "name": "julia-1.6"
  },
  "language_info": {
   "file_extension": ".jl",
   "mimetype": "application/julia",
   "name": "julia",
   "version": "1.6.1"
  }
 },
 "nbformat": 4,
 "nbformat_minor": 5
}
